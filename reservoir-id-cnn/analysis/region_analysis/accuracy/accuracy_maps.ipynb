{
 "cells": [
  {
   "cell_type": "markdown",
   "metadata": {},
   "source": [
    "# Create simple chloropleth maps by ecoregion, state, and watershed"
   ]
  },
  {
   "cell_type": "code",
   "execution_count": null,
   "metadata": {},
   "outputs": [],
   "source": [
    "import geopandas as gpd\n",
    "import pandas as pd\n",
    "import matplotlib.pyplot as plt\n",
    "import numpy as np\n",
    "import matplotlib\n"
   ]
  },
  {
   "cell_type": "markdown",
   "metadata": {},
   "source": [
    "## Function for making maps"
   ]
  },
  {
   "cell_type": "code",
   "execution_count": null,
   "metadata": {},
   "outputs": [],
   "source": [
    "def make_map(df, shape, left_on, right_on, title, log=True, axs=[]):\n",
    "\n",
    "    shape = shape.merge(df, left_on=left_on, right_on=right_on)\n",
    "    \n",
    "    # Calculate total image count\n",
    "    shape = shape.assign(\n",
    "        total_count=shape['train_count'] + shape['test_count'])\n",
    "    \n",
    "    # Make plots\n",
    "    if len(axs) == 0:\n",
    "        fig, axs = plt.subplots(1, 2, figsize=[12,6])\n",
    "    if log:\n",
    "        shape.plot(column='f1', ax=axs[0], legend=True,\n",
    "                   norm=matplotlib.colors.LogNorm(vmin=shape.loc[shape['f1']>0,'f1'].min(), vmax=shape['f1'].max()))\n",
    "    else:\n",
    "        shape.plot(column='f1', ax=axs[0], legend=True)\n",
    "    shape.boundary.plot(ax=axs[0], linewidth=0.25)\n",
    "    axs[0].set_title(title+', Test F1-Score', size=15)\n",
    "    axs[0].set_ylabel('Latitude', size=14)\n",
    "    axs[0].set_xlabel('Longitude', size=14)\n",
    "    axs[0].tick_params(axis='both', labelsize=12 )\n",
    "\n",
    "    if log:    \n",
    "        shape.plot(column='total_count', ax=axs[1], legend=True,\n",
    "                  norm=matplotlib.colors.LogNorm(vmin=shape.loc[shape['total_count']>0,'total_count'].min(), vmax=shape['total_count'].max()))\n",
    "    else:\n",
    "        shape.plot(column='total_count', ax=axs[1], legend=True)\n",
    "    shape.boundary.plot(ax=axs[1], linewidth=0.25)\n",
    "    axs[1].set_title(title+', Annotated Images Count', size=15)\n",
    "    axs[1].set_ylabel('Latitude', size=14)\n",
    "    axs[1].set_xlabel('Longitude', size=14)\n",
    "    axs[1].tick_params(axis='both', labelsize=12 )\n"
   ]
  },
  {
   "cell_type": "markdown",
   "metadata": {},
   "source": [
    "##  States"
   ]
  },
  {
   "cell_type": "code",
   "execution_count": null,
   "metadata": {},
   "outputs": [],
   "source": [
    "state_df = pd.read_csv('./data/summary_state.csv')\n",
    "state_shape = gpd.read_file('../accuracy/data/shapefiles/brazil_states_clip.shp')\n",
    "make_map(state_df, state_shape, 'NOME_UF', 'state', 'State', log=False)"
   ]
  },
  {
   "cell_type": "markdown",
   "metadata": {},
   "source": [
    "## Ecoregions"
   ]
  },
  {
   "cell_type": "code",
   "execution_count": null,
   "metadata": {},
   "outputs": [],
   "source": [
    "eco_shape = gpd.read_file('../accuracy/data/shapefiles/ecoregions_clip.shp')\n"
   ]
  },
  {
   "cell_type": "code",
   "execution_count": null,
   "metadata": {},
   "outputs": [],
   "source": [
    "eco_df = pd.read_csv('./data/summary_ecoregion.csv')\n",
    "eco_shape = gpd.read_file('../accuracy/data/shapefiles/ecoregions_clip.shp')\n",
    "make_map(eco_df, eco_shape, 'ECO_NAME', 'ecoregion', 'Ecoregion', log=False)"
   ]
  },
  {
   "cell_type": "markdown",
   "metadata": {},
   "source": [
    "# Biomes\n"
   ]
  },
  {
   "cell_type": "code",
   "execution_count": null,
   "metadata": {},
   "outputs": [],
   "source": [
    "biome_df = pd.read_csv('./data/summary_biome.csv')\n",
    "# Drop 9 and 14\n",
    "# biome_df = biome_df.loc[~biome_df['reg'].isin([13,14])]\n",
    "biome_shape = gpd.read_file('../accuracy/data/shapefiles/biome_clip.shp')\n",
    "make_map(biome_df, biome_shape, 'BIOME', 'biome', 'Biome', log=False)"
   ]
  },
  {
   "cell_type": "markdown",
   "metadata": {},
   "source": [
    "# Full Figure"
   ]
  },
  {
   "cell_type": "code",
   "execution_count": null,
   "metadata": {},
   "outputs": [],
   "source": [
    "fig, axs = plt.subplots(2, 2, figsize=[12,10])\n",
    "make_map(state_df, state_shape, 'NOME_UF', 'state', 'State', log=False, axs=axs[0])\n",
    "make_map(biome_df, biome_shape, 'BIOME', 'biome', 'Biome', log=False, axs=axs[1])\n",
    "fig.tight_layout() \n"
   ]
  }
 ],
 "metadata": {
  "kernelspec": {
   "display_name": "reservoirid",
   "language": "python",
   "name": "reservoirid"
  },
  "language_info": {
   "codemirror_mode": {
    "name": "ipython",
    "version": 3
   },
   "file_extension": ".py",
   "mimetype": "text/x-python",
   "name": "python",
   "nbconvert_exporter": "python",
   "pygments_lexer": "ipython3",
   "version": "3.7.3"
  }
 },
 "nbformat": 4,
 "nbformat_minor": 4
}
