{
 "cells": [
  {
   "cell_type": "markdown",
   "metadata": {},
   "source": [
    "# Create simple chloropleth maps by ecoregion, state, and watershed"
   ]
  },
  {
   "cell_type": "code",
   "execution_count": null,
   "metadata": {},
   "outputs": [],
   "source": [
    "import geopandas as gpd\n",
    "import pandas as pd\n",
    "import matplotlib.pyplot as plt\n",
    "import numpy as np\n",
    "import matplotlib\n"
   ]
  },
  {
   "cell_type": "markdown",
   "metadata": {},
   "source": [
    "## Function for making maps"
   ]
  },
  {
   "cell_type": "code",
   "execution_count": null,
   "metadata": {},
   "outputs": [],
   "source": [
    "def make_map(df, shape, merge_column, title, density=True, log=True, axs=[]):\n",
    "    df = df.assign(nonzero=df['area']>0)\n",
    "    df = df.groupby('reg').sum()\n",
    "    df['area'] = df['area']*0.01\n",
    "\n",
    "    shape[merge_column] = shape[merge_column].astype(int)\n",
    "    shape = shape.merge(df, left_on=merge_column, right_on='reg')\n",
    "    \n",
    "    if density:\n",
    "        # Calculate density in ha/ha or count/ha\n",
    "        shape['area'] = shape['area']/(0.01*shape.area/(0.000089831528412**2))\n",
    "        shape['nonzero'] = shape['nonzero']/(0.01*shape.area/(0.000089831528412**2))\n",
    "    # Make plots\n",
    "    if len(axs) == 0:\n",
    "        fig, axs = plt.subplots(1, 2, figsize=[12,6])\n",
    "    if log:\n",
    "        shape.plot(column='area', ax=axs[0], legend=True,\n",
    "                   norm=matplotlib.colors.LogNorm(vmin=shape.loc[shape['area']>0,'area'].min(), vmax=shape['area'].max()))\n",
    "    else:\n",
    "        shape.plot(column='area', ax=axs[0], legend=True)\n",
    "    shape.boundary.plot(ax=axs[0], linewidth=0.25)\n",
    "    axs[0].set_title(title+' Reservoir Area Density\\n(Reservoir Area Fraction)', size=15)\n",
    "    axs[0].set_ylabel('Latitude', size=14)\n",
    "    axs[0].set_xlabel('Longitude', size=14)\n",
    "    axs[0].tick_params(axis='both', labelsize=12 )\n",
    "    if log:    \n",
    "        shape.plot(column='nonzero', ax=axs[1], legend=True,\n",
    "                  norm=matplotlib.colors.LogNorm(vmin=shape.loc[shape['nonzero']>0,'nonzero'].min(), vmax=shape['nonzero'].max()))\n",
    "    else:\n",
    "        shape.plot(column='nonzero', ax=axs[1], legend=True)\n",
    "    shape.boundary.plot(ax=axs[1], linewidth=0.25)\n",
    "    axs[1].set_title(title+' Reservoir Count Density\\n(Reservoirs per ha)', size=15)\n",
    "    axs[1].set_ylabel('Latitude', size=14)\n",
    "    axs[1].set_xlabel('Longitude', size=14)\n",
    "    axs[1].tick_params(axis='both', labelsize=12 )\n"
   ]
  },
  {
   "cell_type": "markdown",
   "metadata": {},
   "source": [
    "##  States"
   ]
  },
  {
   "cell_type": "code",
   "execution_count": null,
   "metadata": {},
   "outputs": [],
   "source": [
    "state_df = pd.read_csv('./data/state_sizes.csv')\n",
    "# Remove two states that are barely in the study region\n",
    "state_df = state_df.loc[~state_df['reg'].isin([11,15])]\n",
    "state_shape = gpd.read_file('../accuracy/data/shapefiles/brazil_states_clip.shp')\n",
    "make_map(state_df, state_shape, 'GEOCODIGO', 'State', log=False)"
   ]
  },
  {
   "cell_type": "markdown",
   "metadata": {},
   "source": [
    "## Ecoregions"
   ]
  },
  {
   "cell_type": "code",
   "execution_count": null,
   "metadata": {},
   "outputs": [],
   "source": [
    "eco_df = pd.read_csv('./data/eco_sizes.csv')\n",
    "eco_shape = gpd.read_file('../accuracy/data/shapefiles/ecoregions_clip.shp')\n",
    "make_map(eco_df, eco_shape, 'ECO_NUM', 'Ecoregion')"
   ]
  },
  {
   "cell_type": "markdown",
   "metadata": {},
   "source": [
    "# Biomes\n"
   ]
  },
  {
   "cell_type": "code",
   "execution_count": null,
   "metadata": {},
   "outputs": [],
   "source": [
    "biome_df = pd.read_csv('./data/biome_sizes.csv')\n",
    "# Drop 9 and 14, very small/barely in study region\n",
    "biome_df = biome_df.loc[~biome_df['reg'].isin([13,14])]\n",
    "biome_shape = gpd.read_file('../accuracy/data/shapefiles/biome_clip.shp')\n",
    "make_map(biome_df, biome_shape, 'BIOME', 'Biome', log=False)"
   ]
  },
  {
   "cell_type": "markdown",
   "metadata": {},
   "source": [
    "## Watersheds\n"
   ]
  },
  {
   "cell_type": "code",
   "execution_count": null,
   "metadata": {},
   "outputs": [],
   "source": [
    "water_df = pd.read_csv('./data/watersheds_sizes.csv')\n",
    "# Drop smallest watershed\n",
    "# water_df = water_df.loc[~water_df['reg'].isin([7238])]\n",
    "water_shape = gpd.read_file('../accuracy/data/shapefiles/watersheds_4digit_clip.shp')\n",
    "make_map(water_df, water_shape, 'NUNIVOTTO4', 'Watershed', log=True)"
   ]
  },
  {
   "cell_type": "markdown",
   "metadata": {},
   "source": [
    "# Full Figure"
   ]
  },
  {
   "cell_type": "code",
   "execution_count": null,
   "metadata": {},
   "outputs": [],
   "source": [
    "fig, axs = plt.subplots(3, 2, figsize=[12,15])\n",
    "make_map(state_df, state_shape, 'GEOCODIGO', 'State', log=False, axs=axs[0])\n",
    "make_map(biome_df, biome_shape, 'BIOME', 'Biome', log=False, axs=axs[1])\n",
    "make_map(water_df, water_shape, 'NUNIVOTTO4', 'Watershed', log=True, axs=axs[2])\n",
    "fig.tight_layout() \n"
   ]
  },
  {
   "cell_type": "code",
   "execution_count": null,
   "metadata": {},
   "outputs": [],
   "source": []
  }
 ],
 "metadata": {
  "kernelspec": {
   "display_name": "reservoirid",
   "language": "python",
   "name": "reservoirid"
  },
  "language_info": {
   "codemirror_mode": {
    "name": "ipython",
    "version": 3
   },
   "file_extension": ".py",
   "mimetype": "text/x-python",
   "name": "python",
   "nbconvert_exporter": "python",
   "pygments_lexer": "ipython3",
   "version": "3.7.3"
  }
 },
 "nbformat": 4,
 "nbformat_minor": 4
}
