{
 "cells": [
  {
   "cell_type": "code",
   "execution_count": 26,
   "metadata": {},
   "outputs": [],
   "source": [
    "import pandas as pd\n",
    "import matplotlib.pyplot as plt\n",
    "import matplotlib\n",
    "import matplotlib.ticker as ticker\n"
   ]
  },
  {
   "cell_type": "markdown",
   "metadata": {},
   "source": [
    "## 10m only"
   ]
  },
  {
   "cell_type": "code",
   "execution_count": 8,
   "metadata": {},
   "outputs": [],
   "source": [
    "df_10m = pd.read_csv('./area_csvs/all_pixel_areas_aea.csv', names=['area'])\n",
    "df_10m = df_10m.loc[df_10m['area']>0]"
   ]
  },
  {
   "cell_type": "code",
   "execution_count": 51,
   "metadata": {},
   "outputs": [
    {
     "name": "stdout",
     "output_type": "stream",
     "text": [
      "524093 reservoirs\n",
      "263816.85 ha total\n",
      "0.5033779310160601 ha mean\n",
      "0.14 ha median\n",
      "8056 Count above 5ha\n",
      "1.5371317685983212 5 ha is top X percentile\n",
      "82300.91 >5ha total area\n",
      "31.196229505431518 >5ha area fraction\n",
      "89.93651890027152 1 ha is bottom X percentile\n",
      "34.545822224774504 <1ha area fraction\n"
     ]
    }
   ],
   "source": [
    "# Total Count, area, and avg size\n",
    "# Count\n",
    "print(df_10m.shape[0], 'reservoirs')\n",
    "# Area in ha\n",
    "print(df_10m['area'].sum()*0.01, 'ha total')\n",
    "# Mean area\n",
    "print(df_10m['area'].mean()*0.01, 'ha mean')\n",
    "print(df_10m['area'].median()*0.01, 'ha median')\n",
    "print((df_10m['area']*0.01>5).sum(), 'Count above 5ha')\n",
    "# 5a percentile\n",
    "print(100*(df_10m['area']*0.01>5).sum()/df_10m.shape[0], '5 ha is top X percentile')\n",
    "# > 5ha total area\n",
    "print(df_10m.loc[(df_10m['area']*0.01>5), 'area'].sum()*0.01, '>5ha total area')\n",
    "print(100*df_10m.loc[(df_10m['area']*0.01>5), 'area'].sum()*0.01/(df_10m['area'].sum()*0.01), '>5ha area fraction')\n",
    "# 1ha percentile\n",
    "print(100*(df_10m['area']*0.01<1).sum()/df_10m.shape[0], '1 ha is bottom X percentile')\n",
    "print(100*df_10m.loc[(df_10m['area']*0.01<1), 'area'].sum()*0.01/(df_10m['area'].sum()*0.01), '<1ha area fraction')\n",
    "\n"
   ]
  },
  {
   "cell_type": "code",
   "execution_count": 37,
   "metadata": {},
   "outputs": [
    {
     "data": {
      "image/png": "[encoded data removed]",
      "text/plain": [
       "<Figure size 864x288 with 1 Axes>"
      ]
     },
     "metadata": {
      "needs_background": "light"
     },
     "output_type": "display_data"
    }
   ],
   "source": [
    "fig, ax = plt.subplots(figsize=[12,4])\n",
    "\n",
    "n, bins, patches = ax.hist(df_10m['area']*0.01, range=[0,5], bins=10)\n",
    "ax.yaxis.set_major_formatter(ticker.FuncFormatter(\n",
    "    lambda y, pos: '%.0f' % (y * 1e-3)))\n",
    "ax.set_ylabel('Count (thousands)', size=14)\n",
    "ax.set_xlabel('Reservoir size (ha)', size=14)\n",
    "ax.tick_params(axis='both', labelsize=12 )\n",
    "\n",
    "plt.show()\n"
   ]
  },
  {
   "cell_type": "markdown",
   "metadata": {},
   "source": [
    "# 10 + 20m combined"
   ]
  },
  {
   "cell_type": "code",
   "execution_count": 52,
   "metadata": {},
   "outputs": [],
   "source": [
    "df_combo = pd.read_csv('./area_csvs/all_pixel_areas_aea_merged.csv', names=['area'])\n",
    "df_combo = df_combo.loc[df_combo['area']>0]"
   ]
  },
  {
   "cell_type": "code",
   "execution_count": 53,
   "metadata": {},
   "outputs": [
    {
     "name": "stdout",
     "output_type": "stream",
     "text": [
      "524019 reservoirs\n",
      "280117.19 ha total\n",
      "0.5345554073421002 ha mean\n",
      "0.14 ha median\n",
      "8191 Count above 5ha\n",
      "1.5631112612328941 5 ha is top X percentile\n",
      "98836.51000000001 >5ha total area\n",
      "35.28398596316063 >5ha area fraction\n",
      "89.92670113106585 1 ha is bottom X percentile\n",
      "32.52942455977086 <1ha area fraction\n"
     ]
    }
   ],
   "source": [
    "# Total Count, area, and avg size\n",
    "# Count\n",
    "print(df_combo.shape[0], 'reservoirs')\n",
    "# Area in ha\n",
    "print(df_combo['area'].sum()*0.01, 'ha total')\n",
    "# Mean area\n",
    "print(df_combo['area'].mean()*0.01, 'ha mean')\n",
    "print(df_combo['area'].median()*0.01, 'ha median')\n",
    "print((df_combo['area']*0.01>5).sum(), 'Count above 5ha')\n",
    "# 5a percentile\n",
    "print(100*(df_combo['area']*0.01>5).sum()/df_combo.shape[0], '5 ha is top X percentile')\n",
    "# > 5ha total area\n",
    "print(df_combo.loc[(df_combo['area']*0.01>5), 'area'].sum()*0.01, '>5ha total area')\n",
    "print(100*df_combo.loc[(df_combo['area']*0.01>5), 'area'].sum()*0.01/(df_combo['area'].sum()*0.01), '>5ha area fraction')\n",
    "# 1ha percentile\n",
    "print(100*(df_combo['area']*0.01<1).sum()/df_combo.shape[0], '1 ha is bottom X percentile')\n",
    "print(100*df_combo.loc[(df_combo['area']*0.01<1), 'area'].sum()*0.01/(df_combo['area'].sum()*0.01), '<1ha area fraction')\n",
    "\n"
   ]
  },
  {
   "cell_type": "code",
   "execution_count": 54,
   "metadata": {},
   "outputs": [
    {
     "data": {
      "image/png": "[encoded data removed]",
      "text/plain": [
       "<Figure size 864x288 with 1 Axes>"
      ]
     },
     "metadata": {
      "needs_background": "light"
     },
     "output_type": "display_data"
    }
   ],
   "source": [
    "fig, ax = plt.subplots(figsize=[12,4])\n",
    "\n",
    "n, bins, patches = ax.hist(df_combo['area']*0.01, range=[0,5], bins=10)\n",
    "ax.yaxis.set_major_formatter(ticker.FuncFormatter(\n",
    "    lambda y, pos: '%.0f' % (y * 1e-3)))\n",
    "ax.set_ylabel('Count (thousands)', size=14)\n",
    "ax.set_xlabel('Reservoir size (ha)', size=14)\n",
    "ax.tick_params(axis='both', labelsize=12 )\n",
    "\n",
    "plt.show()\n"
   ]
  }
 ],
 "metadata": {
  "kernelspec": {
   "display_name": "reservoirid",
   "language": "python",
   "name": "reservoirid"
  },
  "language_info": {
   "codemirror_mode": {
    "name": "ipython",
    "version": 3
   },
   "file_extension": ".py",
   "mimetype": "text/x-python",
   "name": "python",
   "nbconvert_exporter": "python",
   "pygments_lexer": "ipython3",
   "version": "3.7.3"
  }
 },
 "nbformat": 4,
 "nbformat_minor": 4
}
